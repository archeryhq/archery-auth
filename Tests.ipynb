{
 "cells": [
  {
   "cell_type": "markdown",
   "id": "981d6959",
   "metadata": {},
   "source": [
    "# Archery Auth\n",
    "Persons authorization information manager."
   ]
  },
  {
   "cell_type": "markdown",
   "id": "aa671b7d",
   "metadata": {},
   "source": [
    "#### Import and Settings"
   ]
  },
  {
   "cell_type": "code",
   "execution_count": 1,
   "id": "b396a3e0",
   "metadata": {},
   "outputs": [],
   "source": [
    "from archery_auth import renew, Auth, Role\n",
    "from archery_secret import Secret\n",
    "\n",
    "\n",
    "auth = Auth()\n",
    "role = Role()\n",
    "secret = Secret()\n",
    "me = {\n",
    "    'username': 'eniocsj',\n",
    "    'email': 'eniocsj@mail.com',\n",
    "    'password': 'p45Sw0rdv3ry57r0n6f0rn07h1ng'\n",
    "}"
   ]
  },
  {
   "cell_type": "markdown",
   "id": "f36d3208",
   "metadata": {},
   "source": [
    "#### Reset database"
   ]
  },
  {
   "cell_type": "code",
   "execution_count": 2,
   "id": "f5679ee0",
   "metadata": {},
   "outputs": [
    {
     "data": {
      "text/plain": [
       "True"
      ]
     },
     "execution_count": 2,
     "metadata": {},
     "output_type": "execute_result"
    }
   ],
   "source": [
    "renew()"
   ]
  },
  {
   "cell_type": "markdown",
   "id": "d89f423e",
   "metadata": {},
   "source": [
    "## Role tests"
   ]
  },
  {
   "cell_type": "markdown",
   "id": "c9cce05d",
   "metadata": {},
   "source": [
    "#### Create new role"
   ]
  },
  {
   "cell_type": "code",
   "execution_count": 3,
   "id": "1210982e",
   "metadata": {},
   "outputs": [
    {
     "data": {
      "text/plain": [
       "True"
      ]
     },
     "execution_count": 3,
     "metadata": {},
     "output_type": "execute_result"
    }
   ],
   "source": [
    "role.add(\n",
    "    name='owner',\n",
    "    description='The king!'\n",
    ")\n",
    "role.add(\n",
    "    name='writer',\n",
    "    description='The knight!'\n",
    ")\n",
    "role.add(\n",
    "    name='reader',\n",
    "    description='The noble!'\n",
    ")\n",
    "role.add(\n",
    "    name='visitor',\n",
    "    description='The commoner!'\n",
    ")"
   ]
  },
  {
   "cell_type": "markdown",
   "id": "0c69f530",
   "metadata": {},
   "source": [
    "#### Show roles"
   ]
  },
  {
   "cell_type": "code",
   "execution_count": 4,
   "id": "ec2f0974",
   "metadata": {},
   "outputs": [
    {
     "data": {
      "text/plain": [
       "[{'name': 'owner', 'description': 'The king!'},\n",
       " {'name': 'writer', 'description': 'The knight!'},\n",
       " {'name': 'reader', 'description': 'The noble!'},\n",
       " {'name': 'visitor', 'description': 'The commoner!'}]"
      ]
     },
     "execution_count": 4,
     "metadata": {},
     "output_type": "execute_result"
    }
   ],
   "source": [
    "role.roles"
   ]
  },
  {
   "cell_type": "markdown",
   "id": "8b9cd170",
   "metadata": {},
   "source": [
    "#### Find role."
   ]
  },
  {
   "cell_type": "code",
   "execution_count": 5,
   "id": "e3e76e39",
   "metadata": {
    "tags": []
   },
   "outputs": [
    {
     "data": {
      "text/plain": [
       "'gAAAAABgcIfdcSPvhNR_CrcWe11y16ZHWcybvVWS6fuY_EHN9k-sGZoDBHh9T6Ol3S35oJ8ov4-4HCnaKP66ocnFLq7oTiyVhQLwk0Umh-xFmMGmjOF84JPJdMAmJ9QhDKK50fxoGkY6'"
      ]
     },
     "execution_count": 5,
     "metadata": {},
     "output_type": "execute_result"
    }
   ],
   "source": [
    "encrypted_id = role.show_id('owner')\n",
    "encrypted_id"
   ]
  },
  {
   "cell_type": "markdown",
   "id": "3f1bc8e6-5fc8-45bd-a837-6004472a6285",
   "metadata": {},
   "source": [
    "#### Remove role"
   ]
  },
  {
   "cell_type": "code",
   "execution_count": 6,
   "id": "29aca547",
   "metadata": {},
   "outputs": [
    {
     "ename": "TypeError",
     "evalue": "'list' object is not callable",
     "output_type": "error",
     "traceback": [
      "\u001b[0;31m---------------------------------------------------------------------------\u001b[0m",
      "\u001b[0;31mTypeError\u001b[0m                                 Traceback (most recent call last)",
      "\u001b[0;32m<ipython-input-6-01c8d4688cb4>\u001b[0m in \u001b[0;36m<module>\u001b[0;34m\u001b[0m\n\u001b[1;32m      4\u001b[0m     )\n\u001b[1;32m      5\u001b[0m )\n\u001b[0;32m----> 6\u001b[0;31m \u001b[0mrole\u001b[0m\u001b[0;34m.\u001b[0m\u001b[0mroles\u001b[0m\u001b[0;34m(\u001b[0m\u001b[0;34m)\u001b[0m\u001b[0;34m\u001b[0m\u001b[0;34m\u001b[0m\u001b[0m\n\u001b[0m",
      "\u001b[0;31mTypeError\u001b[0m: 'list' object is not callable"
     ]
    }
   ],
   "source": [
    "role.remove(\n",
    "    secret.decrypt(\n",
    "        encrypted_id\n",
    "    )\n",
    ")\n",
    "role.roles"
   ]
  },
  {
   "cell_type": "markdown",
   "id": "142f9eb2",
   "metadata": {},
   "source": [
    "## Auth tests"
   ]
  },
  {
   "cell_type": "markdown",
   "id": "4db36ecd",
   "metadata": {},
   "source": [
    "#### Create new person"
   ]
  },
  {
   "cell_type": "code",
   "execution_count": null,
   "id": "097e1aed",
   "metadata": {},
   "outputs": [],
   "source": [
    "auth.create(**me)"
   ]
  },
  {
   "cell_type": "markdown",
   "id": "ee52860d",
   "metadata": {},
   "source": [
    "#### Login person"
   ]
  },
  {
   "cell_type": "code",
   "execution_count": null,
   "id": "69cf01e7",
   "metadata": {},
   "outputs": [],
   "source": [
    "auth.login(\n",
    "    username=me['username'],\n",
    "    password=me['password']\n",
    ")"
   ]
  },
  {
   "cell_type": "markdown",
   "id": "cb1bb6d4",
   "metadata": {},
   "source": [
    "#### Change password"
   ]
  },
  {
   "cell_type": "code",
   "execution_count": null,
   "id": "0782ce27",
   "metadata": {},
   "outputs": [],
   "source": [
    "new_string_password = '07h3rp4s5W0rdv3ry57r0ng'\n",
    "auth.change_password(\n",
    "    password=new_string_password\n",
    ")"
   ]
  },
  {
   "cell_type": "markdown",
   "id": "c32dcd11",
   "metadata": {},
   "source": [
    "#### Change email"
   ]
  },
  {
   "cell_type": "code",
   "execution_count": null,
   "id": "0b780c7f",
   "metadata": {},
   "outputs": [],
   "source": [
    "auth.change_email(\n",
    "    email='eniocsjunior@gmail.com'\n",
    ")"
   ]
  },
  {
   "cell_type": "markdown",
   "id": "5078ddd3",
   "metadata": {},
   "source": [
    "#### Enable person"
   ]
  },
  {
   "cell_type": "code",
   "execution_count": null,
   "id": "91cef232",
   "metadata": {},
   "outputs": [],
   "source": [
    "auth.enable(\n",
    "    secret.decrypt(\n",
    "        auth.id\n",
    "    ),\n",
    "    enabled=True\n",
    ")\n",
    "auth.id = secret.decrypt(\n",
    "    auth.id\n",
    ")\n",
    "auth.login(\n",
    "    username=me['username'],\n",
    "    password=new_string_password\n",
    ")"
   ]
  },
  {
   "cell_type": "markdown",
   "id": "ce01f2d9-3826-4914-b558-a5f41011c1ab",
   "metadata": {},
   "source": [
    "#### Remove person"
   ]
  },
  {
   "cell_type": "code",
   "execution_count": null,
   "id": "fd117644-30d2-465f-954a-0ab37e8018e2",
   "metadata": {},
   "outputs": [],
   "source": [
    "auth.remove(\n",
    "    secret.decrypt(auth.id)\n",
    ")\n",
    "try:\n",
    "    auth.login(\n",
    "        username=me['username'],\n",
    "        password=new_string_password\n",
    "    )\n",
    "    raise Exception('\\033[1;31mSomething wrong is not right!\\033[m')\n",
    "except AttributeError:\n",
    "    print('Person not exists!')"
   ]
  },
  {
   "cell_type": "markdown",
   "id": "3b9f9836-d616-4103-b7df-2a0135f83045",
   "metadata": {},
   "source": [
    "### Integration"
   ]
  },
  {
   "cell_type": "markdown",
   "id": "e6d88fad-8911-4975-b18c-c4ae8caf6fb8",
   "metadata": {},
   "source": [
    "#### Create new person and login"
   ]
  },
  {
   "cell_type": "code",
   "execution_count": null,
   "id": "9ad4aab4-d1df-458a-aa71-c13391b49138",
   "metadata": {},
   "outputs": [],
   "source": [
    "new_person = Auth()\n",
    "new_person.create(**me)\n",
    "new_login = auth.login(\n",
    "    username=me['username'],\n",
    "    password=me['password']\n",
    ")\n",
    "new_login"
   ]
  },
  {
   "cell_type": "markdown",
   "id": "0169da85-dd5d-4fb2-928c-92884d300d5f",
   "metadata": {},
   "source": [
    "#### Enable person"
   ]
  },
  {
   "cell_type": "code",
   "execution_count": null,
   "id": "d816ab34-f7e9-44d8-8cc7-307d4dc801d3",
   "metadata": {},
   "outputs": [],
   "source": [
    "auth.enable(\n",
    "    id=secret.decrypt(\n",
    "        new_login['id']\n",
    "    ),\n",
    "    enabled=True\n",
    ")"
   ]
  },
  {
   "cell_type": "markdown",
   "id": "a9c42e1f-6c90-4408-af4b-bd03716d3276",
   "metadata": {},
   "source": [
    "#### Insert role in person"
   ]
  },
  {
   "cell_type": "code",
   "execution_count": null,
   "id": "9ef1c7be-b954-4bfc-93d2-0eaf20538951",
   "metadata": {},
   "outputs": [],
   "source": [
    "auth.change_role(\n",
    "    person_id=secret.decrypt(\n",
    "        new_login['id']\n",
    "    ),\n",
    "    role_id=secret.decrypt(\n",
    "        role.show_id('writer')\n",
    "    )\n",
    ")"
   ]
  },
  {
   "cell_type": "markdown",
   "id": "80854518-3d03-44a1-9ae2-9c23d4c473b4",
   "metadata": {},
   "source": [
    "#### Show new person"
   ]
  },
  {
   "cell_type": "code",
   "execution_count": null,
   "id": "29848306-50d3-4aa1-978b-3706bb5aa305",
   "metadata": {},
   "outputs": [],
   "source": [
    "new_person.login(\n",
    "    username=me['username'],\n",
    "    password=me['password']\n",
    ")"
   ]
  }
 ],
 "metadata": {
  "kernelspec": {
   "display_name": "Python 3",
   "language": "python",
   "name": "python3"
  },
  "language_info": {
   "codemirror_mode": {
    "name": "ipython",
    "version": 3
   },
   "file_extension": ".py",
   "mimetype": "text/x-python",
   "name": "python",
   "nbconvert_exporter": "python",
   "pygments_lexer": "ipython3",
   "version": "3.9.2"
  }
 },
 "nbformat": 4,
 "nbformat_minor": 5
}
